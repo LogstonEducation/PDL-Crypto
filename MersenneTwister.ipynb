{
 "cells": [
  {
   "cell_type": "code",
   "execution_count": 1,
   "metadata": {},
   "outputs": [],
   "source": [
    "# https://github.com/python/cpython/blob/dc516ef8395d15da0ab225eb0dceb2e0581f51ca/Modules/_randommodule.c\n",
    "\n",
    "N = 624\n",
    "M = 397\n",
    "MATRIX_A = 0x9908b0df\n",
    "UPPER_MASK = 0x80000000\n",
    "LOWER_MASK = 0x7fffffff\n",
    "\n",
    "F = 1812433253\n",
    "\n",
    "mag01 = [0x0, MATRIX_A]\n",
    "\n",
    "MAX_BITS = 0b111111111111111111111111  # 32 bit\n",
    "\n",
    "\n",
    "class Random:\n",
    "    def __init__(self, seed):\n",
    "        self.seed = seed\n",
    "        self.state = [self.seed]\n",
    "        \n",
    "        for i in range(1, N):\n",
    "            self.state.append(\n",
    "                (F * (self.state[i - 1] ^ (self.state[i - 1] >> 30)) + i) & MAX_BITS\n",
    "            )\n",
    "            \n",
    "        self.index = N\n",
    "    \n",
    "    def next(self):\n",
    "        if self.index >= N:\n",
    "            # Twist up state.\n",
    "            \n",
    "            for kk in range(N - M):  # 0 -> 227\n",
    "                y = (self.state[kk] & UPPER_MASK) | (self.state[kk + 1] & LOWER_MASK)\n",
    "                self.state[kk] = self.state[kk + M] ^ (y >> 1) ^ mag01[y & 0x1]\n",
    "\n",
    "\n",
    "            for kk in range(N - M, N - 1):  # 227 -> 624\n",
    "                y = (self.state[kk] & UPPER_MASK) | (self.state[kk + 1] & LOWER_MASK)\n",
    "                self.state[kk] = self.state[kk + (M - N)] ^ (y >> 1) ^ mag01[y & 0x1]\n",
    "\n",
    "            # 624\n",
    "            y = (self.state[N - 1] & UPPER_MASK) | (self.state[0] & LOWER_MASK)\n",
    "            self.state[N - 1] = self.state[M - 1] ^ (y >> 1) ^ mag01[y & 0x1]\n",
    "            \n",
    "            self.index = 0\n",
    "        \n",
    "        y = self.state[self.index]\n",
    "\n",
    "        self.index += 1\n",
    "        \n",
    "        y ^= (y >> 11)\n",
    "        y ^= (y << 7) & MAX_BITS & 0x9d2c5680 \n",
    "        y ^= (y << 15) & MAX_BITS & 0xefc60000\n",
    "        y ^= (y >> 18)\n",
    "\n",
    "        return y"
   ]
  },
  {
   "cell_type": "code",
   "execution_count": 2,
   "metadata": {},
   "outputs": [
    {
     "name": "stdout",
     "output_type": "stream",
     "text": [
      "127.36043\n",
      "73.86649932690955\n"
     ]
    }
   ],
   "source": [
    "r = Random(160)\n",
    "vals = [r.next() % 256 for _ in range(100_000)]\n",
    "\n",
    "import statistics\n",
    "print(statistics.mean(vals))\n",
    "print(statistics.stdev(vals))"
   ]
  },
  {
   "cell_type": "code",
   "execution_count": 3,
   "metadata": {},
   "outputs": [
    {
     "name": "stdout",
     "output_type": "stream",
     "text": [
      "127.74034\n",
      "73.86581359647089\n"
     ]
    }
   ],
   "source": [
    "import random\n",
    "\n",
    "random.seed(5)\n",
    "vals = [random.randint(0, 255) for _ in range(100_000)]\n",
    "print(statistics.mean(vals))\n",
    "print(statistics.stdev(vals))"
   ]
  },
  {
   "cell_type": "code",
   "execution_count": 4,
   "metadata": {},
   "outputs": [
    {
     "data": {
      "text/plain": [
       "'0b11111111111111111111111111111111'"
      ]
     },
     "execution_count": 4,
     "metadata": {},
     "output_type": "execute_result"
    }
   ],
   "source": [
    "bin(2 ** 32 - 1)"
   ]
  },
  {
   "cell_type": "code",
   "execution_count": 5,
   "metadata": {},
   "outputs": [
    {
     "data": {
      "text/plain": [
       "32"
      ]
     },
     "execution_count": 5,
     "metadata": {},
     "output_type": "execute_result"
    }
   ],
   "source": [
    "len('11111111111111111111111111111111')"
   ]
  }
 ],
 "metadata": {
  "kernelspec": {
   "display_name": "Python 3 (ipykernel)",
   "language": "python",
   "name": "python3"
  },
  "language_info": {
   "codemirror_mode": {
    "name": "ipython",
    "version": 3
   },
   "file_extension": ".py",
   "mimetype": "text/x-python",
   "name": "python",
   "nbconvert_exporter": "python",
   "pygments_lexer": "ipython3",
   "version": "3.9.7"
  }
 },
 "nbformat": 4,
 "nbformat_minor": 4
}
