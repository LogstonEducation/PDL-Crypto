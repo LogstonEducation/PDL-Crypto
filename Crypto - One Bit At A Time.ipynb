{
 "cells": [
  {
   "cell_type": "markdown",
   "metadata": {},
   "source": [
    "Cryptography surrounds us. Every time we access an “https” website, we are using incredibly powerful cryptographic tools. This class will take a high-level look at what tools we have at our disposal to keep our communications secure. We will also take a deeper look at asymmetric key cryptography.\n",
    "\n",
    "https://github.com/LogstonEducation/PDL-Crypto"
   ]
  },
  {
   "cell_type": "markdown",
   "metadata": {},
   "source": [
    "## What is Cryptography?"
   ]
  },
  {
   "cell_type": "markdown",
   "metadata": {},
   "source": [
    "In plain english:\n",
    "\n",
    "The act of taking some information and obscuring it in someway such that we can retreive the original message.\n",
    "\n",
    "In arrows:\n",
    "\n",
    "Plain text -> Cipher text -> Plain text\n",
    "\n",
    "In math:\n",
    "\n",
    "- Fe(PT) = CT   (encryption function)\n",
    "- Fd(CT) = PT   (decryption function)\n",
    "\n",
    "Fe and Fd are ciphers. "
   ]
  },
  {
   "cell_type": "markdown",
   "metadata": {},
   "source": [
    "#### Ceaser Cipher\n",
    "\n",
    "https://en.wikipedia.org/wiki/Caesar_cipher (~75 BCE)"
   ]
  },
  {
   "cell_type": "code",
   "execution_count": 2,
   "metadata": {},
   "outputs": [],
   "source": [
    "import string\n",
    "\n",
    "alphabet = string.ascii_lowercase"
   ]
  },
  {
   "cell_type": "code",
   "execution_count": 3,
   "metadata": {},
   "outputs": [
    {
     "data": {
      "text/plain": [
       "'abcdefghijklmnopqrstuvwxyz'"
      ]
     },
     "execution_count": 3,
     "metadata": {},
     "output_type": "execute_result"
    }
   ],
   "source": [
    "alphabet"
   ]
  },
  {
   "cell_type": "code",
   "execution_count": 4,
   "metadata": {},
   "outputs": [
    {
     "data": {
      "text/plain": [
       "15"
      ]
     },
     "execution_count": 4,
     "metadata": {},
     "output_type": "execute_result"
    }
   ],
   "source": [
    "alphabet.index('p')"
   ]
  },
  {
   "cell_type": "code",
   "execution_count": 6,
   "metadata": {},
   "outputs": [
    {
     "data": {
      "text/plain": [
       "'s'"
      ]
     },
     "execution_count": 6,
     "metadata": {},
     "output_type": "execute_result"
    }
   ],
   "source": [
    "alphabet[15 + 3]"
   ]
  },
  {
   "cell_type": "code",
   "execution_count": null,
   "metadata": {},
   "outputs": [],
   "source": [
    "# 'hi' -> 8, 9\n",
    "\n",
    "# + 13 \n",
    "\n",
    "# 21, 22\n",
    "# 'uv'"
   ]
  },
  {
   "cell_type": "code",
   "execution_count": 12,
   "metadata": {},
   "outputs": [],
   "source": [
    "# Complete in class...\n",
    "import string\n",
    "\n",
    "alphabet = string.ascii_lowercase\n",
    "\n",
    "def cipher(plaintext: str) -> str: # rot-13\n",
    "    ciphertext = []\n",
    "    \n",
    "    for char in plaintext:\n",
    "        if char == ' ':\n",
    "            ciphertext.append(char)\n",
    "            continue\n",
    "        \n",
    "        # char = h -> 8\n",
    "        # 8 -> 8 + 13 = 21\n",
    "        # alphabet[21] cipher char\n",
    "        cipher_char = alphabet[(alphabet.index(char) + 13) % len(alphabet)]\n",
    "\n",
    "        ciphertext.append(cipher_char)\n",
    "    \n",
    "    return ''.join(ciphertext)"
   ]
  },
  {
   "cell_type": "code",
   "execution_count": 13,
   "metadata": {},
   "outputs": [
    {
     "data": {
      "text/plain": [
       "'uv juvpu jnl qvq gurl tb'"
      ]
     },
     "execution_count": 13,
     "metadata": {},
     "output_type": "execute_result"
    }
   ],
   "source": [
    "cipher('hi which way did they go')"
   ]
  },
  {
   "cell_type": "code",
   "execution_count": 14,
   "metadata": {},
   "outputs": [
    {
     "data": {
      "text/plain": [
       "'hi which way did they go'"
      ]
     },
     "execution_count": 14,
     "metadata": {},
     "output_type": "execute_result"
    }
   ],
   "source": [
    "cipher('uv juvpu jnl qvq gurl tb')"
   ]
  },
  {
   "cell_type": "code",
   "execution_count": 11,
   "metadata": {},
   "outputs": [],
   "source": [
    "import string\n",
    "\n",
    "alphabet = string.ascii_lowercase\n",
    "\n",
    "def cipher(plaintext: str, rot: int=13):\n",
    "    # clean plain text\n",
    "    plaintext = plaintext.lower()\n",
    "\n",
    "    new_string = []\n",
    "    for char in plaintext:\n",
    "        if char in alphabet:\n",
    "            offset = alphabet.index(char)\n",
    "            new_offset = (offset + rot) % len(alphabet)\n",
    "            char = alphabet[new_offset]\n",
    "            \n",
    "        new_string.append(char)\n",
    "\n",
    "    return ''.join(new_string)"
   ]
  },
  {
   "cell_type": "code",
   "execution_count": 12,
   "metadata": {},
   "outputs": [
    {
     "data": {
      "text/plain": [
       "'rirelguvat fubhyq or znqr nf fvzcyr nf cbffvoyr. ohg abg fvzcyre.'"
      ]
     },
     "execution_count": 12,
     "metadata": {},
     "output_type": "execute_result"
    }
   ],
   "source": [
    "ciphertext = cipher('everything should be made as simple as possible. but not simpler.')\n",
    "ciphertext"
   ]
  },
  {
   "cell_type": "code",
   "execution_count": 13,
   "metadata": {},
   "outputs": [
    {
     "data": {
      "text/plain": [
       "'everything should be made as simple as possible. but not simpler.'"
      ]
     },
     "execution_count": 13,
     "metadata": {},
     "output_type": "execute_result"
    }
   ],
   "source": [
    "cipher(ciphertext)"
   ]
  },
  {
   "cell_type": "code",
   "execution_count": 14,
   "metadata": {},
   "outputs": [
    {
     "data": {
      "text/plain": [
       "'kbkxeznotm ynuarj hk sgjk gy yosvrk gy vuyyohrk. haz tuz yosvrkx.'"
      ]
     },
     "execution_count": 14,
     "metadata": {},
     "output_type": "execute_result"
    }
   ],
   "source": [
    "ciphertext = cipher('everything should be made as simple as possible. but not simpler.', 6)\n",
    "ciphertext"
   ]
  },
  {
   "cell_type": "code",
   "execution_count": 15,
   "metadata": {},
   "outputs": [
    {
     "data": {
      "text/plain": [
       "'everything should be made as simple as possible. but not simpler.'"
      ]
     },
     "execution_count": 15,
     "metadata": {},
     "output_type": "execute_result"
    }
   ],
   "source": [
    "cipher(ciphertext, -6)"
   ]
  },
  {
   "cell_type": "markdown",
   "metadata": {},
   "source": [
    "## Binary Representation and XOR"
   ]
  },
  {
   "cell_type": "markdown",
   "metadata": {},
   "source": [
    "Basic Binary Arithmetic \n",
    "```\n",
    "- 1 AND 1 => 1\n",
    "- 1 AND 0 => 0\n",
    "- 0 AND 0 => 0\n",
    "---\n",
    "- 1 OR 1 => 1\n",
    "- 1 OR 0 => 1\n",
    "- 0 OR 0 => 0\n",
    "---\n",
    "- 1 XOR 1 => 0\n",
    "- 1 XOR 0 => 1\n",
    "- 0 XOR 0 => 0\n",
    "```"
   ]
  },
  {
   "cell_type": "code",
   "execution_count": 15,
   "metadata": {},
   "outputs": [
    {
     "name": "stdout",
     "output_type": "stream",
     "text": [
      "k 0b10101010\n",
      "m 0b00000010\n",
      "c 0b10101000\n"
     ]
    }
   ],
   "source": [
    "k = 0b10101010\n",
    "m = 0b00000010\n",
    "\n",
    "print('k', format(k, '#010b'))\n",
    "print('m', format(m, '#010b'))\n",
    "\n",
    "c = k ^ m  # k is encryption key, m could be plain text, c is ciphertext\n",
    "\n",
    "print('c', format(c, '#010b'))"
   ]
  },
  {
   "cell_type": "code",
   "execution_count": 16,
   "metadata": {},
   "outputs": [
    {
     "name": "stdout",
     "output_type": "stream",
     "text": [
      " m 0b00000010\n",
      "m2 0b00000010\n",
      "True - messages are equal\n"
     ]
    }
   ],
   "source": [
    "m2 = k ^ c  # We can get m back by XORing c with k\n",
    "print(' m', format(m, '#010b'))\n",
    "print('m2', format(m2, '#010b'))\n",
    "print(m == m2, '- messages are equal')"
   ]
  },
  {
   "cell_type": "code",
   "execution_count": 18,
   "metadata": {},
   "outputs": [
    {
     "name": "stdout",
     "output_type": "stream",
     "text": [
      " k 0b10101010\n",
      "k2 0b10101010\n",
      "True - keys are equal\n"
     ]
    }
   ],
   "source": [
    "k2 = c ^ m  # We can get k back by XORing c with m\n",
    "print(' k', format(k, '#010b'))\n",
    "print('k2', format(k2, '#010b'))\n",
    "print(k == k2, '- keys are equal')"
   ]
  },
  {
   "cell_type": "markdown",
   "metadata": {},
   "source": [
    "Let's pretend \"k\" is our secret series of bits and \"m\" is our message. It's pretty easy for a hacker to get the message back from this series of bits just by trying all 256 bit options that \"k\" could take on. \n",
    "\n",
    "So how do we keep things secret? \n",
    "\n",
    "- We increase the size of the message/key.\n",
    "- We pass the message through several XORs of bits so that a single XORing would not return anything meaning full.\n",
    "- We XOR it with a completely random bits. (both of the above depend on this)\n",
    "\n",
    "At a certain point trying all combinations of bits and XOR becomes computationally infeasible with current computing power. At that point (which is itself very vauge, different for different situations) we say we are satisfied.\n",
    "\n",
    "So where do we get a bunch of random 1s and 0s? A good psudeo-random number generator (PRNG). \n",
    "\n",
    "We build those shooting for these goals (BSI evaluation criteria, [1]):\n",
    "\n",
    "- Any two sequences should be different from each other.\n",
    "- Sequences must be indistinguishable from 'true random' numbers according to specified statistical tests.\n",
    "- Can't reliably guess a bit from any previous or future bits.\n",
    "- Can't reliably guess a previously or future generatred sequence if you know the internal state of the PRNG for a current sequence.\n",
    "\n",
    "PRNG List: https://en.wikipedia.org/wiki/List_of_random_number_generators#Pseudorandom_number_generators_(PRNGs)\n",
    "\n",
    "Mersenne Twister\n",
    "\n",
    "The Mersenne Twister is probably the most common PRNG in use. Used for Python's `random` library.\n",
    "\n",
    "https://en.wikipedia.org/wiki/Mersenne_Twister\n",
    "\n",
    "Refs:\n",
    "\n",
    "- [1] https://en.wikipedia.org/wiki/Pseudorandom_number_generator#BSI_evaluation_criteria\n"
   ]
  },
  {
   "cell_type": "markdown",
   "metadata": {},
   "source": [
    "## Stream Ciphers & Block Ciphers"
   ]
  },
  {
   "cell_type": "markdown",
   "metadata": {},
   "source": [
    "###### Block Ciphers \n",
    "\n",
    "Chop a **known** length message (plaintext) into equal sized parts (commonly 64, 128, 265 bits) and run each part through the cipher. \n",
    "\n",
    "- Simple\n",
    "- Reversing encryption is hard\n",
    "\n",
    "###### Stream Ciphers \n",
    "\n",
    "Take a message of **unknown** length message (plaintext) and chop it up byte by byte as you get the message. Convert one byte at a time to cipher text. Change the 1s and 0s so that its not the same XOR every n bytes.\n",
    "\n",
    "- Only option for unknown length messages\n",
    "- Complex\n",
    "- Easier to crack\n",
    "\n",
    "A stream of pefectly random bits that's the exact length of the message we want to encrypt would be called a One-Time pad. \n",
    "\n",
    "This is great in theory. However, how would we get the secret One-Time pad to our message recipient? If we accomplished that, we have a problem of size. Each message would be at least double the size of its contents; 50% for message, 50% for key.\n",
    "\n",
    "Stream ciphers usually use short key to initialize themselves and then the stream cipher produces a \"random\" looking sequence of bits of infanite length.\n",
    "\n",
    "\n",
    "Common Ciphers [2]:\n",
    "\n",
    "- Stream Ciphers: Salsa20, ChaCha, ISAAC, HC-128 and RC4.\n",
    "- Block Ciphers: AES, TwoFish, Serpent and Camellia\n",
    "\n",
    "Refs:\n",
    "- [2] https://en.wikipedia.org/wiki/List_of_random_number_generators"
   ]
  },
  {
   "cell_type": "markdown",
   "metadata": {},
   "source": [
    "## Public Key Cryptography"
   ]
  },
  {
   "cell_type": "markdown",
   "metadata": {},
   "source": [
    "So far, these encryption tools use the same key to encrypt as they do to decrypt. If we want to send someone an encrypted message, we need them to have the same key we have. How do we get it to them securely? We have a chicken and egg problem? We both need a shared secret key in order to share a secret key.\n",
    "\n",
    "Enter Asymmetric Key Cryptography.\n",
    "\n",
    "We break the problem in half and we only consider sending a message securely to one person. \n",
    "\n",
    "A wants to send a message to B securely. B can send anything to A and it does not need to be encrypted. \n",
    "\n",
    "What if B sent A a key that twisted a message up and now matter how many times you used the key on the message you would only tighten the encryption on the message. Basically, this key only turns one way. It could be shared with everyone and no one would be able to decrypt messages that were encrypted with it.\n",
    "\n",
    "Now we just need a key that turns in the opposite direction. \n",
    "\n",
    "These two opposite turning keys are actually created at the same time and are often based on two large prime numbers. Because they are both required for the full encrypt -> decrypt flow, we call them two halves of the same key. B will send A her public half, A will encrypt the message with that half, and B will decrypt it with her other half. \n",
    "\n",
    "Browsers are shipped with the public key's of the major Certificate Authorties (entities that certify other people's public keys) and by virtue of the fact that we can trust these CA's public keys and they say that this is \"Amazon's\" public key, we can trust we have amazon's public key. Thus we can encrypt messages bound for Amazon.com. This allows us to keep our CC #'s secret on the way to Amazon.com. How does Amazon.com send us information back securely? \n",
    "\n",
    "As it turns out, doing the public key crypto stuff is slow. So instead, it is only used at the beginning of accessing a page. From there, both client and server decide on a shared secret one time key. This key is then used with a block or stream cipher to encrypt the rest of the message. \n",
    "\n",
    "RSA Paper: https://people.csail.mit.edu/rivest/Rsapaper.pdf"
   ]
  },
  {
   "cell_type": "markdown",
   "metadata": {},
   "source": [
    "### GPG\n",
    "\n",
    "###### https://www.gnupg.org/download/index.html#binary\n",
    "\n",
    "```\n",
    "$ gpg --gen-key\n",
    "gpg (GnuPG/MacGPG2) 2.2.17; Copyright (C) 2019 Free Software Foundation, Inc.\n",
    "This is free software: you are free to change and redistribute it.\n",
    "There is NO WARRANTY, to the extent permitted by law.\n",
    "\n",
    "Note: Use \"gpg --full-generate-key\" for a full featured key generation dialog.\n",
    "\n",
    "GnuPG needs to construct a user ID to identify your key.\n",
    "\n",
    "Real name: Paul Logston\n",
    "Email address: paul.logston@columbia.edu\n",
    "You selected this USER-ID:\n",
    "    \"Paul Logston <paul.logston@columbia.edu>\"\n",
    "\n",
    "Change (N)ame, (E)mail, or (O)kay/(Q)uit? o\n",
    "We need to generate a lot of random bytes. It is a good idea to perform\n",
    "some other action (type on the keyboard, move the mouse, utilize the\n",
    "disks) during the prime generation; this gives the random number\n",
    "generator a better chance to gain enough entropy.\n",
    "We need to generate a lot of random bytes. It is a good idea to perform\n",
    "some other action (type on the keyboard, move the mouse, utilize the\n",
    "disks) during the prime generation; this gives the random number\n",
    "generator a better chance to gain enough entropy.\n",
    "gpg: key 5FE8521885FD29FF marked as ultimately trusted\n",
    "gpg: directory '/Users/paul/.gnupg/openpgp-revocs.d' created\n",
    "gpg: revocation certificate stored as '/Users/paul/.gnupg/openpgp-revocs.d/DFFE9ACF48C871FA60821DD45FE8521885FD29FF.rev'\n",
    "public and secret key created and signed.\n",
    "\n",
    "pub   rsa2048 2019-11-04 [SC] [expires: 2021-11-03]\n",
    "      DFFE9ACF48C871FA60821DD45FE8521885FD29FF\n",
    "uid                      Paul Logston <paul.logston@columbia.edu>\n",
    "sub   rsa2048 2019-11-04 [E] [expires: 2021-11-03]\n",
    "```\n",
    "\n",
    "---\n",
    "\n",
    "```\n",
    "$ gpg --list-keys                                                          \n",
    "/Users/paul/.gnupg/pubring.kbx\n",
    "------------------------------\n",
    "pub   rsa2048 2019-11-04 [SC] [expires: 2021-11-03]\n",
    "      DFFE9ACF48C871FA60821DD45FE8521885FD29FF\n",
    "uid           [ultimate] Paul Logston <paul.logston@columbia.edu>\n",
    "sub   rsa2048 2019-11-04 [E] [expires: 2021-11-03]\n",
    "```\n",
    "\n",
    "---\n",
    "\n",
    "```\n",
    "$ echo \"HI\" > secret.txt\n",
    "$ cat secret.txt \n",
    "HI     \n",
    "```\n",
    "\n",
    "---\n",
    "\n",
    "```\n",
    "$ gpg --encrypt --recipient DFFE9ACF48C871FA60821DD45FE8521885FD29FF secret.txt\n",
    "```\n",
    "\n",
    "---\n",
    "\n",
    "```\n",
    "$ less secret.txt.gpg\n",
    "```\n",
    "\n",
    "---\n",
    "\n",
    "```\n",
    "$ gpg --output secret.out.txt --decrypt secret.txt.gpg\n",
    "```\n",
    "\n",
    "---\n",
    "\n",
    "```\n",
    "$ gpg --delete-secret-key  DFFE9ACF48C871FA60821DD45FE8521885FD29FF \n",
    "gpg (GnuPG/MacGPG2) 2.2.17; Copyright (C) 2019 Free Software Foundation, Inc.\n",
    "This is free software: you are free to change and redistribute it.\n",
    "There is NO WARRANTY, to the extent permitted by law.\n",
    "\n",
    "sec  rsa2048/5FE8521885FD29FF 2019-11-04 Paul Logston <paul.logston@columbia.edu>\n",
    "\n",
    "Delete this key from the keyring? (y/N) y\n",
    "This is a secret key! - really delete? (y/N) y\n",
    "```\n",
    "\n",
    "---\n",
    "\n",
    "```\n",
    "$ gpg --delete-key  DFFE9ACF48C871FA60821DD45FE8521885FD29FF        \n",
    "gpg (GnuPG/MacGPG2) 2.2.17; Copyright (C) 2019 Free Software Foundation, Inc.\n",
    "This is free software: you are free to change and redistribute it.\n",
    "There is NO WARRANTY, to the extent permitted by law.\n",
    "\n",
    "pub  rsa2048/5FE8521885FD29FF 2019-11-04 Paul Logston <paul.logston@columbia.edu>\n",
    "\n",
    "Delete this key from the keyring? (y/N) y\n",
    "```"
   ]
  },
  {
   "cell_type": "markdown",
   "metadata": {},
   "source": [
    "### Keybase.io\n",
    "\n",
    "https://keybase.io/logston\n",
    "\n",
    "Uses https://saltpack.org/ rather than PGP (which is used by gpg).\n"
   ]
  },
  {
   "cell_type": "markdown",
   "metadata": {},
   "source": [
    "### Signal\n",
    "\n",
    "https://signal.org/\n",
    "\n",
    "Open source. No one can add logic that the public can not see. "
   ]
  },
  {
   "cell_type": "markdown",
   "metadata": {},
   "source": [
    "### What's App\n",
    "\n",
    "Not open source. Owned by Meta (aka. Facebook)."
   ]
  },
  {
   "cell_type": "markdown",
   "metadata": {},
   "source": [
    "### Tor\n",
    "\n",
    "https://www.torproject.org/download/"
   ]
  },
  {
   "cell_type": "markdown",
   "metadata": {},
   "source": [
    "### VPNs and WireGuard\n",
    "https://www.wireguard.com/"
   ]
  },
  {
   "cell_type": "markdown",
   "metadata": {},
   "source": [
    "### Fun Coding Challenges\n",
    "https://cryptopals.com/"
   ]
  }
 ],
 "metadata": {
  "kernelspec": {
   "display_name": "Python 3 (ipykernel)",
   "language": "python",
   "name": "python3"
  },
  "language_info": {
   "codemirror_mode": {
    "name": "ipython",
    "version": 3
   },
   "file_extension": ".py",
   "mimetype": "text/x-python",
   "name": "python",
   "nbconvert_exporter": "python",
   "pygments_lexer": "ipython3",
   "version": "3.9.12"
  }
 },
 "nbformat": 4,
 "nbformat_minor": 2
}
